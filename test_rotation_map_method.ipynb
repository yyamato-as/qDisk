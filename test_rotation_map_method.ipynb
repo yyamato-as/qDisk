{
 "cells": [
  {
   "cell_type": "code",
   "execution_count": 1,
   "metadata": {},
   "outputs": [],
   "source": [
    "from qdisk.product import calculate_moment, moment_method\n",
    "import matplotlib.pyplot as plt\n",
    "from eDisk_source_dict import source_dict\n",
    "from astropy.visualization import AsinhStretch, ImageNormalize\n",
    "import numpy as np\n",
    "%matplotlib widget\n",
    "%load_ext autoreload\n",
    "%autoreload 2\n",
    "\n",
    "plt.rcParams.update({\n",
    "    \"xtick.top\": True,\n",
    "    \"ytick.right\": True})\n",
    "\n",
    "source = \"L1489IRS\"\n",
    "molecular_lines = [\"12CO\", \"13CO\", \"C18O\", \"SO\"]\n",
    "imagepath = \"/raid/work/yamato/edisk_data/L1489IRS/eDisk_image_products/\"\n",
    "rmax = 8\n",
    "rmax_zoomed = 2.5\n",
    "moment = [\"M0\", \"M1\", \"M8\"]\n",
    "baseline = \"SBLB\"\n",
    "vsys = source_dict[source][\"v_sys\"]\n",
    "center_coord = source_dict[source][\"radec\"]\n",
    "vrange = 5\n",
    "data_scaling_factor = {\"M0\": 1.0,\n",
    "                       \"M1\": 1e-3,\n",
    "                       \"M8\": 1,}\n",
    "norm_kwargs = {\"M0\": dict(stretch=AsinhStretch(a=0.1), vmin=0.0),\n",
    "               \"M1\": dict(vmin=vsys-vrange, vmax=vsys+vrange),\n",
    "               \"M8\": dict()}\n",
    "beam_kw = {\"M0\": dict(fill=True, color=\"white\"),\n",
    "           \"M1\": dict(fill=True, color=\"black\"),\n",
    "           \"M8\": dict(fill=True, color=\"white\")}\n",
    "cbar_kw = {\"M0\": dict(label=r\"mJy beam$^{-1}$ km s$^{-1}$\"),\n",
    "           \"M1\": dict(label=r\"km s$^{-1}$\"),\n",
    "           \"M8\": dict(label=r\"K\")}\n",
    "sbar_kw = {\"M0\": dict(),\n",
    "           \"M1\": dict(color=\"black\"),\n",
    "           \"M8\": dict(),\n",
    "}\n",
    "\n",
    "def get_image_basename(source, baseline, line, robust=0.5, pbcor=False):\n",
    "    ### get basename of an image based on eDisk naming convention\n",
    "    imagename = \"{:s}_{:s}_{:s}_robust_{:.1f}.image.fits\".format(source, baseline, line, robust)\n",
    "    if pbcor:\n",
    "        imagename = imagename.replace(\".image.fits\", \".pbcor.fits\")\n",
    "    return imagename"
   ]
  },
  {
   "cell_type": "code",
   "execution_count": 2,
   "metadata": {},
   "outputs": [
    {
     "name": "stdout",
     "output_type": "stream",
     "text": [
      "Loading data...\n",
      "data shape: (120, 4000, 4000)\n",
      "Estimating rms...\n",
      "rms: 1.7290281830355525 mJy/beam\n",
      "Generating threshold mask...\n",
      "Generating channel mask...\n",
      "Combining the masks...\n"
     ]
    },
    {
     "ename": "",
     "evalue": "",
     "output_type": "error",
     "traceback": [
      "\u001b[1;31mCanceled future for execute_request message before replies were done"
     ]
    },
    {
     "ename": "",
     "evalue": "",
     "output_type": "error",
     "traceback": [
      "\u001b[1;31mThe Kernel crashed while executing code in the the current cell or a previous cell. Please review the code in the cell(s) to identify a possible cause of the failure. Click <a href='https://aka.ms/vscodeJupyterKernelCrash'>here</a> for more info. View Jupyter <a href='command:jupyter.viewOutput'>log</a> for further details."
     ]
    }
   ],
   "source": [
    "line = \"C18O\"\n",
    "imagename = imagepath + get_image_basename(source, baseline, line)\n",
    "\n",
    "\n",
    "for mom in [1, 9, \"q\"]:\n",
    "    threshold = (-np.inf, 4) if mom == 1 else None\n",
    "    calculate_moment(\n",
    "        imagename=imagename,\n",
    "        moments=[mom],\n",
    "        verbose=True,\n",
    "        threshold=threshold,\n",
    "        savefilename=\"./test_rotation_map_{:s}.fits\".format(moment_method[mom]),\n",
    "        nchunks=4\n",
    "    )\n"
   ]
  },
  {
   "cell_type": "code",
   "execution_count": null,
   "metadata": {},
   "outputs": [],
   "source": [
    "# plot comparison\n",
    "from eDiskplot import plot_map\n",
    "\n",
    "maplist = [\"./test_rotation_map_{:s}.fits\".format(moment_method[mom]) for mom in [1, 9, \"q\"]]"
   ]
  }
 ],
 "metadata": {
  "interpreter": {
   "hash": "ba23286e68868a34b2a8ad8675b39c127e90010abb70cedd437ed05bb735a44e"
  },
  "kernelspec": {
   "display_name": "Python 3.8.12 ('.venv': poetry)",
   "language": "python",
   "name": "python3"
  },
  "language_info": {
   "codemirror_mode": {
    "name": "ipython",
    "version": 3
   },
   "file_extension": ".py",
   "mimetype": "text/x-python",
   "name": "python",
   "nbconvert_exporter": "python",
   "pygments_lexer": "ipython3",
   "version": "3.8.12"
  },
  "orig_nbformat": 4
 },
 "nbformat": 4,
 "nbformat_minor": 2
}
